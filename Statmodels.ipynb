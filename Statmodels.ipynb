{
 "cells": [
  {
   "cell_type": "code",
   "execution_count": 56,
   "metadata": {},
   "outputs": [],
   "source": [
    "import pandas as pd\n",
    "import numpy as np\n",
    "import seaborn as sns\n",
    "import matplotlib.pyplot as plt\n",
    "from sklearn.preprocessing import StandardScaler\n",
    "import statsmodels.formula.api as sm"
   ]
  },
  {
   "cell_type": "code",
   "execution_count": 57,
   "metadata": {},
   "outputs": [],
   "source": [
    "df=pd.read_excel(\"KTMNewData.xlsx\")"
   ]
  },
  {
   "cell_type": "code",
   "execution_count": 58,
   "metadata": {},
   "outputs": [
    {
     "data": {
      "text/html": [
       "<div>\n",
       "<style scoped>\n",
       "    .dataframe tbody tr th:only-of-type {\n",
       "        vertical-align: middle;\n",
       "    }\n",
       "\n",
       "    .dataframe tbody tr th {\n",
       "        vertical-align: top;\n",
       "    }\n",
       "\n",
       "    .dataframe thead th {\n",
       "        text-align: right;\n",
       "    }\n",
       "</style>\n",
       "<table border=\"1\" class=\"dataframe\">\n",
       "  <thead>\n",
       "    <tr style=\"text-align: right;\">\n",
       "      <th></th>\n",
       "      <th>Age</th>\n",
       "      <th>Gender</th>\n",
       "      <th>Occupation</th>\n",
       "      <th>Phone_Type</th>\n",
       "      <th>Current_Bike</th>\n",
       "      <th>Relationship</th>\n",
       "      <th>Response</th>\n",
       "    </tr>\n",
       "  </thead>\n",
       "  <tbody>\n",
       "    <tr>\n",
       "      <th>0</th>\n",
       "      <td>53</td>\n",
       "      <td>Male</td>\n",
       "      <td>Professional</td>\n",
       "      <td>Average</td>\n",
       "      <td>180 to 220</td>\n",
       "      <td>Complicated</td>\n",
       "      <td>Not purchased</td>\n",
       "    </tr>\n",
       "    <tr>\n",
       "      <th>1</th>\n",
       "      <td>27</td>\n",
       "      <td>Female</td>\n",
       "      <td>Self Employed</td>\n",
       "      <td>Low End</td>\n",
       "      <td>No Bike</td>\n",
       "      <td>Single</td>\n",
       "      <td>Purchased</td>\n",
       "    </tr>\n",
       "    <tr>\n",
       "      <th>2</th>\n",
       "      <td>39</td>\n",
       "      <td>Female</td>\n",
       "      <td>Unemployed</td>\n",
       "      <td>Average</td>\n",
       "      <td>180 to 220</td>\n",
       "      <td>Married</td>\n",
       "      <td>Not purchased</td>\n",
       "    </tr>\n",
       "    <tr>\n",
       "      <th>3</th>\n",
       "      <td>20</td>\n",
       "      <td>Female</td>\n",
       "      <td>Unemployed</td>\n",
       "      <td>High End</td>\n",
       "      <td>No Bike</td>\n",
       "      <td>Married</td>\n",
       "      <td>Not purchased</td>\n",
       "    </tr>\n",
       "    <tr>\n",
       "      <th>4</th>\n",
       "      <td>29</td>\n",
       "      <td>Male</td>\n",
       "      <td>Student</td>\n",
       "      <td>Average</td>\n",
       "      <td>180 to 220</td>\n",
       "      <td>Complicated</td>\n",
       "      <td>Purchased</td>\n",
       "    </tr>\n",
       "  </tbody>\n",
       "</table>\n",
       "</div>"
      ],
      "text/plain": [
       "   Age  Gender     Occupation Phone_Type Current_Bike Relationship  \\\n",
       "0   53   Male    Professional    Average   180 to 220  Complicated   \n",
       "1   27  Female  Self Employed    Low End      No Bike       Single   \n",
       "2   39  Female     Unemployed    Average   180 to 220      Married   \n",
       "3   20  Female     Unemployed   High End      No Bike      Married   \n",
       "4   29   Male         Student    Average   180 to 220  Complicated   \n",
       "\n",
       "        Response  \n",
       "0  Not purchased  \n",
       "1      Purchased  \n",
       "2  Not purchased  \n",
       "3  Not purchased  \n",
       "4      Purchased  "
      ]
     },
     "execution_count": 58,
     "metadata": {},
     "output_type": "execute_result"
    }
   ],
   "source": [
    "df.head()"
   ]
  },
  {
   "cell_type": "code",
   "execution_count": 59,
   "metadata": {},
   "outputs": [
    {
     "data": {
      "text/plain": [
       "<bound method DataFrame.info of       Age  Gender     Occupation Phone_Type Current_Bike Relationship  \\\n",
       "0      53   Male    Professional    Average   180 to 220  Complicated   \n",
       "1      27  Female  Self Employed    Low End      No Bike       Single   \n",
       "2      39  Female     Unemployed    Average   180 to 220      Married   \n",
       "3      20  Female     Unemployed   High End      No Bike      Married   \n",
       "4      29   Male         Student    Average   180 to 220  Complicated   \n",
       "...   ...     ...            ...        ...          ...          ...   \n",
       "1513   19   Male         Student   High End   125 to 180    Committed   \n",
       "1514   18   Male         Student   High End    Below 125      Married   \n",
       "1515   24  Female        Student   High End   180 to 220      Married   \n",
       "1516   23  Female        Student   High End   125 to 180       Single   \n",
       "1517   18   Male         Student   High End   180 to 220       Single   \n",
       "\n",
       "           Response  \n",
       "0     Not purchased  \n",
       "1         Purchased  \n",
       "2     Not purchased  \n",
       "3     Not purchased  \n",
       "4         Purchased  \n",
       "...             ...  \n",
       "1513      Purchased  \n",
       "1514      Purchased  \n",
       "1515      Purchased  \n",
       "1516      Purchased  \n",
       "1517      Purchased  \n",
       "\n",
       "[1518 rows x 7 columns]>"
      ]
     },
     "execution_count": 59,
     "metadata": {},
     "output_type": "execute_result"
    }
   ],
   "source": [
    "df.info"
   ]
  },
  {
   "cell_type": "code",
   "execution_count": 60,
   "metadata": {},
   "outputs": [
    {
     "name": "stdout",
     "output_type": "stream",
     "text": [
      "Female    816\n",
      "Male      702\n",
      "Name: Gender, dtype: int64\n",
      "Student          686\n",
      "Self Employed    295\n",
      "Unemployed       274\n",
      "Professional     263\n",
      "Name: Occupation, dtype: int64\n",
      "High End    836\n",
      "Low End     343\n",
      "Average     339\n",
      "Name: Phone_Type, dtype: int64\n",
      "180 to 220       420\n",
      "125 to 180       333\n",
      "Below 125        300\n",
      "No Bike          254\n",
      "220 and Above    211\n",
      "Name: Current_Bike, dtype: int64\n",
      "Single         490\n",
      "Complicated    384\n",
      "Committed      331\n",
      "Married        313\n",
      "Name: Relationship, dtype: int64\n",
      "Purchased        872\n",
      "Not purchased    646\n",
      "Name: Response, dtype: int64\n"
     ]
    }
   ],
   "source": [
    "for col in df.columns:\n",
    "    if df[col].dtype!='object':\n",
    "        continue\n",
    "    elif df[col].dtype=='object':\n",
    "        print(df[col].value_counts())"
   ]
  },
  {
   "cell_type": "code",
   "execution_count": 66,
   "metadata": {},
   "outputs": [],
   "source": [
    "def LabelEncode(df_local):\n",
    "    for col in df_local.columns:\n",
    "        col_dict = {}\n",
    "        if df_local[col].dtype!='object':\n",
    "            continue\n",
    "        elif df_local[col].dtype=='object':\n",
    "            col2=df_local[col].unique()\n",
    "            z=0\n",
    "            for i in col2:\n",
    "                col_dict[i]=z\n",
    "                z+=1\n",
    "            df_local[col]=df_local[col].map(col_dict)\n",
    "            \n",
    "    return df_local\n",
    "\n",
    "df_encode = LabelEncode(df)"
   ]
  },
  {
   "cell_type": "code",
   "execution_count": 67,
   "metadata": {},
   "outputs": [
    {
     "data": {
      "text/html": [
       "<div>\n",
       "<style scoped>\n",
       "    .dataframe tbody tr th:only-of-type {\n",
       "        vertical-align: middle;\n",
       "    }\n",
       "\n",
       "    .dataframe tbody tr th {\n",
       "        vertical-align: top;\n",
       "    }\n",
       "\n",
       "    .dataframe thead th {\n",
       "        text-align: right;\n",
       "    }\n",
       "</style>\n",
       "<table border=\"1\" class=\"dataframe\">\n",
       "  <thead>\n",
       "    <tr style=\"text-align: right;\">\n",
       "      <th></th>\n",
       "      <th>Age</th>\n",
       "      <th>Gender</th>\n",
       "      <th>Occupation</th>\n",
       "      <th>Phone_Type</th>\n",
       "      <th>Current_Bike</th>\n",
       "      <th>Relationship</th>\n",
       "      <th>Response</th>\n",
       "    </tr>\n",
       "  </thead>\n",
       "  <tbody>\n",
       "    <tr>\n",
       "      <th>0</th>\n",
       "      <td>53</td>\n",
       "      <td>1</td>\n",
       "      <td>1</td>\n",
       "      <td>1</td>\n",
       "      <td>1</td>\n",
       "      <td>1</td>\n",
       "      <td>0</td>\n",
       "    </tr>\n",
       "    <tr>\n",
       "      <th>1</th>\n",
       "      <td>27</td>\n",
       "      <td>2</td>\n",
       "      <td>2</td>\n",
       "      <td>2</td>\n",
       "      <td>2</td>\n",
       "      <td>2</td>\n",
       "      <td>1</td>\n",
       "    </tr>\n",
       "    <tr>\n",
       "      <th>2</th>\n",
       "      <td>39</td>\n",
       "      <td>2</td>\n",
       "      <td>3</td>\n",
       "      <td>1</td>\n",
       "      <td>1</td>\n",
       "      <td>3</td>\n",
       "      <td>0</td>\n",
       "    </tr>\n",
       "    <tr>\n",
       "      <th>3</th>\n",
       "      <td>20</td>\n",
       "      <td>2</td>\n",
       "      <td>3</td>\n",
       "      <td>3</td>\n",
       "      <td>2</td>\n",
       "      <td>3</td>\n",
       "      <td>0</td>\n",
       "    </tr>\n",
       "    <tr>\n",
       "      <th>4</th>\n",
       "      <td>29</td>\n",
       "      <td>1</td>\n",
       "      <td>4</td>\n",
       "      <td>1</td>\n",
       "      <td>1</td>\n",
       "      <td>1</td>\n",
       "      <td>1</td>\n",
       "    </tr>\n",
       "  </tbody>\n",
       "</table>\n",
       "</div>"
      ],
      "text/plain": [
       "   Age  Gender  Occupation  Phone_Type  Current_Bike  Relationship  Response\n",
       "0   53       1           1           1             1             1         0\n",
       "1   27       2           2           2             2             2         1\n",
       "2   39       2           3           1             1             3         0\n",
       "3   20       2           3           3             2             3         0\n",
       "4   29       1           4           1             1             1         1"
      ]
     },
     "execution_count": 67,
     "metadata": {},
     "output_type": "execute_result"
    }
   ],
   "source": [
    "df_encode.head()"
   ]
  },
  {
   "cell_type": "code",
   "execution_count": 94,
   "metadata": {},
   "outputs": [],
   "source": [
    "from sklearn.model_selection import train_test_split\n",
    "X = df_encode[['Age', 'Gender', 'Occupation', 'Phone_Type','Current_Bike','Relationship']]\n",
    "Y = df_encode[['Response']]\n",
    "\n",
    "X_train, X_test, Y_train, Y_test = train_test_split(X, Y, test_size=0.3, random_state=40)\n",
    "df_train=pd.concat([X_train, Y_train], axis=1).reindex(X_train.index)\n",
    "df_test=pd.concat([X_test, Y_test], axis=1).reindex(X_test.index)"
   ]
  },
  {
   "cell_type": "code",
   "execution_count": 95,
   "metadata": {},
   "outputs": [
    {
     "data": {
      "text/plain": [
       "7434"
      ]
     },
     "execution_count": 95,
     "metadata": {},
     "output_type": "execute_result"
    }
   ],
   "source": [
    "df_train.head()\n",
    "df_train.size"
   ]
  },
  {
   "cell_type": "code",
   "execution_count": 96,
   "metadata": {},
   "outputs": [
    {
     "data": {
      "text/plain": [
       "3192"
      ]
     },
     "execution_count": 96,
     "metadata": {},
     "output_type": "execute_result"
    }
   ],
   "source": [
    "df_test.head()\n",
    "df_test.size"
   ]
  },
  {
   "cell_type": "code",
   "execution_count": 76,
   "metadata": {},
   "outputs": [
    {
     "name": "stdout",
     "output_type": "stream",
     "text": [
      "Optimization terminated successfully.\n",
      "         Current function value: 0.460389\n",
      "         Iterations 6\n"
     ]
    }
   ],
   "source": [
    "log_reg = sm.logit(\"Response~Age+Gender+Phone_Type+Occupation+Current_Bike\",data=df_train).fit()"
   ]
  },
  {
   "cell_type": "code",
   "execution_count": 77,
   "metadata": {},
   "outputs": [
    {
     "data": {
      "text/html": [
       "<table class=\"simpletable\">\n",
       "<caption>Logit Regression Results</caption>\n",
       "<tr>\n",
       "  <th>Dep. Variable:</th>       <td>Response</td>     <th>  No. Observations:  </th>   <td>  1062</td>  \n",
       "</tr>\n",
       "<tr>\n",
       "  <th>Model:</th>                 <td>Logit</td>      <th>  Df Residuals:      </th>   <td>  1056</td>  \n",
       "</tr>\n",
       "<tr>\n",
       "  <th>Method:</th>                 <td>MLE</td>       <th>  Df Model:          </th>   <td>     5</td>  \n",
       "</tr>\n",
       "<tr>\n",
       "  <th>Date:</th>            <td>Sat, 05 Feb 2022</td> <th>  Pseudo R-squ.:     </th>   <td>0.3276</td>  \n",
       "</tr>\n",
       "<tr>\n",
       "  <th>Time:</th>                <td>16:07:21</td>     <th>  Log-Likelihood:    </th>  <td> -488.93</td> \n",
       "</tr>\n",
       "<tr>\n",
       "  <th>converged:</th>             <td>True</td>       <th>  LL-Null:           </th>  <td> -727.13</td> \n",
       "</tr>\n",
       "<tr>\n",
       "  <th>Covariance Type:</th>     <td>nonrobust</td>    <th>  LLR p-value:       </th> <td>9.925e-101</td>\n",
       "</tr>\n",
       "</table>\n",
       "<table class=\"simpletable\">\n",
       "<tr>\n",
       "        <td></td>          <th>coef</th>     <th>std err</th>      <th>z</th>      <th>P>|z|</th>  <th>[0.025</th>    <th>0.975]</th>  \n",
       "</tr>\n",
       "<tr>\n",
       "  <th>Intercept</th>    <td>    1.4652</td> <td>    0.503</td> <td>    2.912</td> <td> 0.004</td> <td>    0.479</td> <td>    2.451</td>\n",
       "</tr>\n",
       "<tr>\n",
       "  <th>Age</th>          <td>   -0.0754</td> <td>    0.007</td> <td>  -10.886</td> <td> 0.000</td> <td>   -0.089</td> <td>   -0.062</td>\n",
       "</tr>\n",
       "<tr>\n",
       "  <th>Gender</th>       <td>   -0.6010</td> <td>    0.163</td> <td>   -3.678</td> <td> 0.000</td> <td>   -0.921</td> <td>   -0.281</td>\n",
       "</tr>\n",
       "<tr>\n",
       "  <th>Phone_Type</th>   <td>    0.3947</td> <td>    0.101</td> <td>    3.902</td> <td> 0.000</td> <td>    0.196</td> <td>    0.593</td>\n",
       "</tr>\n",
       "<tr>\n",
       "  <th>Occupation</th>   <td>    0.6059</td> <td>    0.077</td> <td>    7.857</td> <td> 0.000</td> <td>    0.455</td> <td>    0.757</td>\n",
       "</tr>\n",
       "<tr>\n",
       "  <th>Current_Bike</th> <td>   -0.1177</td> <td>    0.054</td> <td>   -2.161</td> <td> 0.031</td> <td>   -0.225</td> <td>   -0.011</td>\n",
       "</tr>\n",
       "</table>"
      ],
      "text/plain": [
       "<class 'statsmodels.iolib.summary.Summary'>\n",
       "\"\"\"\n",
       "                           Logit Regression Results                           \n",
       "==============================================================================\n",
       "Dep. Variable:               Response   No. Observations:                 1062\n",
       "Model:                          Logit   Df Residuals:                     1056\n",
       "Method:                           MLE   Df Model:                            5\n",
       "Date:                Sat, 05 Feb 2022   Pseudo R-squ.:                  0.3276\n",
       "Time:                        16:07:21   Log-Likelihood:                -488.93\n",
       "converged:                       True   LL-Null:                       -727.13\n",
       "Covariance Type:            nonrobust   LLR p-value:                9.925e-101\n",
       "================================================================================\n",
       "                   coef    std err          z      P>|z|      [0.025      0.975]\n",
       "--------------------------------------------------------------------------------\n",
       "Intercept        1.4652      0.503      2.912      0.004       0.479       2.451\n",
       "Age             -0.0754      0.007    -10.886      0.000      -0.089      -0.062\n",
       "Gender          -0.6010      0.163     -3.678      0.000      -0.921      -0.281\n",
       "Phone_Type       0.3947      0.101      3.902      0.000       0.196       0.593\n",
       "Occupation       0.6059      0.077      7.857      0.000       0.455       0.757\n",
       "Current_Bike    -0.1177      0.054     -2.161      0.031      -0.225      -0.011\n",
       "================================================================================\n",
       "\"\"\""
      ]
     },
     "execution_count": 77,
     "metadata": {},
     "output_type": "execute_result"
    }
   ],
   "source": [
    "log_reg.summary()\n",
    "# log(p/1-p)\n",
    "\n",
    "#p close to 0 no\n",
    "#p close to 1 yes"
   ]
  },
  {
   "cell_type": "code",
   "execution_count": 79,
   "metadata": {},
   "outputs": [],
   "source": [
    "#Transformed = 1/(1+e^-a)\n",
    "Y_predict=log_reg.predict(X_test)\n",
    "prediction = list(map(round, Y_predict))"
   ]
  },
  {
   "cell_type": "code",
   "execution_count": 92,
   "metadata": {},
   "outputs": [
    {
     "name": "stdout",
     "output_type": "stream",
     "text": [
      "Confusion Matrix : \n",
      "      0    1\n",
      "0  130   54\n",
      "1   54  218\n",
      "Test accuracy =  76.31578947368422 %\n"
     ]
    }
   ],
   "source": [
    "\n",
    "from sklearn.metrics import (confusion_matrix, accuracy_score)\n",
    " \n",
    "# confusion matrix\n",
    "cm = confusion_matrix(Y_test, prediction)\n",
    "cm=pd.DataFrame(cm)\n",
    "print (\"Confusion Matrix : \\n\", cm)\n",
    " \n",
    "# accuracy score of the model\n",
    "Test_accuracy = accuracy_score(Y_test, prediction)\n",
    "print('Test accuracy = ', Test_accuracy*100,\"%\")"
   ]
  }
 ],
 "metadata": {
  "kernelspec": {
   "display_name": "Python 3 (ipykernel)",
   "language": "python",
   "name": "python3"
  },
  "language_info": {
   "codemirror_mode": {
    "name": "ipython",
    "version": 3
   },
   "file_extension": ".py",
   "mimetype": "text/x-python",
   "name": "python",
   "nbconvert_exporter": "python",
   "pygments_lexer": "ipython3",
   "version": "3.9.7"
  }
 },
 "nbformat": 4,
 "nbformat_minor": 4
}
