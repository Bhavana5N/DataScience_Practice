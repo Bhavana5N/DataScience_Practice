{
  "nbformat": 4,
  "nbformat_minor": 0,
  "metadata": {
    "colab": {
      "provenance": [],
      "toc_visible": true,
      "authorship_tag": "ABX9TyMd1HW3C53BJ+bdATAU+ICv",
      "include_colab_link": true
    },
    "kernelspec": {
      "name": "python3",
      "display_name": "Python 3"
    },
    "language_info": {
      "name": "python"
    }
  },
  "cells": [
    {
      "cell_type": "markdown",
      "metadata": {
        "id": "view-in-github",
        "colab_type": "text"
      },
      "source": [
        "<a href=\"https://colab.research.google.com/github/Bhavana5N/DataScience_Practice/blob/master/values.ipynb\" target=\"_parent\"><img src=\"https://colab.research.google.com/assets/colab-badge.svg\" alt=\"Open In Colab\"/></a>"
      ]
    },
    {
      "cell_type": "code",
      "execution_count": null,
      "metadata": {
        "id": "DgT5vzlR08KE"
      },
      "outputs": [],
      "source": [
        "def calculate_computancy():\n",
        "  pass\n",
        "\n",
        "def calculate_conformance():\n",
        "  pass\n",
        "\n",
        "def calculate_kinship():\n",
        "  pass\n",
        "\n",
        "def calculate_reliablity():\n",
        "  pass\n",
        "\n",
        "def calculate_belief():\n",
        "  pass\n",
        "\n",
        "def calculate_certainity(positive_c, negative_c):\n",
        "  import scipy.special as sc\n",
        "  return sc.beta(positive_c, negative_c)\n",
        "\n",
        "def update_experience():\n",
        "  pass\n",
        "\n",
        "def calculate_trust():\n",
        "  positive_c = 34\n",
        "  negative_c = 23\n",
        "  c_b=calculate_certainity(positive_c, negative_c)\n",
        "  \n",
        "  pass\n",
        "\n",
        "\n"
      ]
    },
    {
      "cell_type": "code",
      "source": [],
      "metadata": {
        "id": "iseUWvqgI1aS",
        "outputId": "262b29de-5a97-4529-ad2f-95b940285d7d",
        "colab": {
          "base_uri": "https://localhost:8080/"
        }
      },
      "execution_count": null,
      "outputs": [
        {
          "output_type": "execute_result",
          "data": {
            "text/plain": [
              "0.08333333333333333"
            ]
          },
          "metadata": {},
          "execution_count": 2
        }
      ]
    }
  ]
}